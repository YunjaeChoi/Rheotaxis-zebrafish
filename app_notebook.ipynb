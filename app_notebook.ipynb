{
 "cells": [
  {
   "cell_type": "code",
   "execution_count": null,
   "metadata": {},
   "outputs": [],
   "source": [
    "from zebrafish.core import Processor\n",
    "import datetime\n",
    "import logging\n",
    "\n",
    "processor = Processor()\n",
    "logging.info('Initialized at:' + str(datetime.datetime.now()))"
   ]
  },
  {
   "cell_type": "code",
   "execution_count": null,
   "metadata": {
    "inputHidden": false,
    "outputHidden": false
   },
   "outputs": [],
   "source": [
    "logging.info('Files to process at:' + str(datetime.datetime.now()))\n",
    "processor.update_file_paths()"
   ]
  },
  {
   "cell_type": "code",
   "execution_count": null,
   "metadata": {
    "inputHidden": false,
    "outputHidden": false
   },
   "outputs": [],
   "source": [
    "processor.detection_output_type = 'data+video'\n",
    "processor.detection_processor.detector = 'ThresholdDetector'\n",
    "processor.detection_processor.overall_crop[0, 0] = 0\n",
    "processor.detection_processor.overall_crop[1, 0] = 1080\n",
    "processor.detection_processor.overall_crop[0, 1] = 320\n",
    "processor.detection_processor.overall_crop[1, 1] = 1730\n",
    "processor.detection_processor.flow_left_to_right = True\n",
    "processor.detection_processor._available_detectors['ThresholdDetector'].median_blur_size = (5)\n",
    "processor.detection_processor._available_detectors['ThresholdDetector'].l_thresh = (0,120)\n",
    "processor.detection_processor._available_detectors['ThresholdDetector'].size_bound = (75,160)\n",
    "processor.detection_processor._available_detectors['ThresholdDetector'].closing_iterations = 7\n",
    "processor.post_output_type = 'data'\n",
    "processor.postprocessor.overall_crop[0, 0] = 0\n",
    "processor.postprocessor.overall_crop[1, 0] = 1080\n",
    "processor.postprocessor.overall_crop[0, 1] = 320\n",
    "processor.postprocessor.overall_crop[1, 1] = 1730\n",
    "processor.postprocessor.tracker = 'KalmanTracker'\n",
    "processor.postprocessor.run_tracker = True\n",
    "processor.postprocessor._available_trackers['KalmanTracker'].mokt.max_age = 10\n",
    "processor.postprocessor._available_trackers['KalmanTracker'].mokt.distance_threshold = 30\n",
    "processor.postprocessor._available_trackers['KalmanTracker'].mokt.min_hits = 0\n",
    "processor.postprocessor._available_trackers['VicinityTracker'].nb_frames_to_find = 15\n",
    "processor.postprocessor._available_trackers['VicinityTracker'].max_dist = 100\n",
    "processor.postprocessor._available_trackers['VicinityTracker'].max_dist_inc_ratio = 0.05\n",
    "processor.postprocessor._post_methods_selected['DataConverter'] = True\n",
    "processor.postprocessor._post_methods['DataConverter'].fps = 30\n",
    "processor.postprocessor._post_methods['DataConverter'].pixel_to_cm_ratio = 1\n",
    "processor.postprocessor._post_methods['DataConverter'].selected['pixel_diff_to_pixel_velocity'] = True\n",
    "processor.postprocessor._post_methods['DataConverter'].selected['pixel_to_cm'] = False\n",
    "processor.postprocessor._post_methods['DataConverter'].selected['rel_angle_deg_to_sin_rel_angle'] = False\n",
    "processor.postprocessor._post_methods['DataConverter'].selected['rel_angle_deg_to_cos_rel_angle'] = True\n",
    "processor.postprocessor._post_methods_selected['PositionBounder'] = False\n",
    "processor.postprocessor._post_methods['PositionBounder'].bounds = []\n",
    "print('Settings saved at:', datetime.datetime.now())"
   ]
  },
  {
   "cell_type": "code",
   "execution_count": null,
   "metadata": {
    "inputHidden": false,
    "outputExpanded": false,
    "outputHidden": true
   },
   "outputs": [],
   "source": [
    "processor.preview_detection()"
   ]
  },
  {
   "cell_type": "code",
   "execution_count": null,
   "metadata": {
    "inputHidden": false,
    "outputHidden": false
   },
   "outputs": [],
   "source": [
    "processor.run_detection()"
   ]
  },
  {
   "cell_type": "code",
   "execution_count": null,
   "metadata": {
    "inputHidden": false,
    "outputHidden": false
   },
   "outputs": [],
   "source": [
    "processor.run_post()"
   ]
  },
  {
   "cell_type": "code",
   "execution_count": null,
   "metadata": {
    "inputHidden": false,
    "outputHidden": false
   },
   "outputs": [],
   "source": []
  }
 ],
 "metadata": {
  "kernelspec": {
   "display_name": "Python [default]",
   "language": "python",
   "name": "python3"
  },
  "language_info": {
   "codemirror_mode": {
    "name": "ipython",
    "version": 3
   },
   "file_extension": ".py",
   "mimetype": "text/x-python",
   "name": "python",
   "nbconvert_exporter": "python",
   "pygments_lexer": "ipython3",
   "version": "3.7.3"
  },
  "nteract": {
   "version": "nteract-on-jupyter@0.1.0"
  }
 },
 "nbformat": 4,
 "nbformat_minor": 2
}
